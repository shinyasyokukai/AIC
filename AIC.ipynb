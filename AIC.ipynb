{
  "nbformat": 4,
  "nbformat_minor": 0,
  "metadata": {
    "colab": {
      "name": "AIC.ipynb",
      "provenance": [],
      "collapsed_sections": [],
      "authorship_tag": "ABX9TyMkS57bcLbAImmxfztueo2k",
      "include_colab_link": true
    },
    "kernelspec": {
      "name": "python3",
      "display_name": "Python 3"
    },
    "language_info": {
      "name": "python"
    }
  },
  "cells": [
    {
      "cell_type": "markdown",
      "metadata": {
        "id": "view-in-github",
        "colab_type": "text"
      },
      "source": [
        "<a href=\"https://colab.research.google.com/github/shinyasyokukai/AIC/blob/main/AIC.ipynb\" target=\"_parent\"><img src=\"https://colab.research.google.com/assets/colab-badge.svg\" alt=\"Open In Colab\"/></a>"
      ]
    },
    {
      "cell_type": "markdown",
      "source": [
        "#スターリングの公式\n",
        "$$\n",
        "n! ∼ n^ne^{-n}\\sqrt{2\\pi n} \\quad (n\\rightarrow∞)\n",
        "$$\n",
        "\n",
        "#KL 情報量\n",
        "確率分布 $p(x)$ の確率分布 $q(x)$ に対する KL 情報量 $D(q||p)$ を\n",
        "$$\n",
        "D(q||p) = ∫q(x)\\ln{\\frac{q(x)}{p(x)}}\\mathrm{d}x\n",
        "$$\n",
        "で定義する。\n",
        "\n",
        "#Sanov の定理による KL 情報量の意味付け\n",
        "###Sanov の定理\n",
        "$p(x)$, $q(x)$を確率分布とし、$X_1,X_2…$ が $p(x)$ に従う独立同分布な確率変数列であるとする。このとき \"$X_1,…,X_n$ が $q(x)$ に従うように見える確率\" は\n",
        "$$\n",
        "\\exp(-nD(q||p) + o(n))\n",
        "$$\n",
        "となる。つまり、KL 情報量 $D(q||p)$ は $p$ に従う乱数列が $q$ に従うように見える確率の対数が減衰する速さである。\n",
        "###証明\n",
        "一般の場合の証明は大変なので $p(x)$, $q(x)$ ともに有限台の離散確率分布とする。すなわち、有限集合 $\\{1,…,r\\}$ 上の非負値関数で\n",
        "$$\n",
        "\\sum_{i=1}^{r}p_i = 1,\n",
        "$$\n",
        "$$\n",
        "\\sum_{i=1}^{r}q_i = 1 \n",
        "$$\n",
        "を満たすものを考える。  \n",
        "$(X_n)_{n=1}^∞$ を $p$ に従う独立同分布な確率変数列とする。$n$ を正整数とする。\n",
        "と置く。$\\sum_{i = 1}^rk_i=n$ を満たす非負整数列 $(k_i)_{i=1}^r$ を与える。\n",
        "$$\n",
        "k_i = \\#\\{m ≤ n | X_m = i\\} \\quad (i = 1,…,r)\n",
        "$$ \n",
        "となる (すなわち値 $i$ がちょうど $k_i$ 回観測される) 確率は\n",
        "$$\n",
        "\\frac{n!}{k_1!…k_r!}p_1^{k_1}…p_r^{k_r}\n",
        "$$\n",
        "となる。ここで、$k_i = nq_i + o(n)$ であると仮定する。すなわち、\n",
        "上記の確率は"
      ],
      "metadata": {
        "id": "9_hd8FYCG851"
      }
    }
  ]
}