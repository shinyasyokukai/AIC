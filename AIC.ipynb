{
  "nbformat": 4,
  "nbformat_minor": 0,
  "metadata": {
    "colab": {
      "name": "AIC.ipynb",
      "provenance": [],
      "collapsed_sections": [],
      "authorship_tag": "ABX9TyPOeifCw6TO1+4Q1P34Cfku",
      "include_colab_link": true
    },
    "kernelspec": {
      "name": "python3",
      "display_name": "Python 3"
    },
    "language_info": {
      "name": "python"
    }
  },
  "cells": [
    {
      "cell_type": "markdown",
      "metadata": {
        "id": "view-in-github",
        "colab_type": "text"
      },
      "source": [
        "<a href=\"https://colab.research.google.com/github/shinyasyokukai/AIC/blob/main/AIC.ipynb\" target=\"_parent\"><img src=\"https://colab.research.google.com/assets/colab-badge.svg\" alt=\"Open In Colab\"/></a>"
      ]
    },
    {
      "cell_type": "markdown",
      "source": [
        "# 注意\n",
        "このノートは現状  \n",
        "https://nbviewer.org/github/genkuroki/Statistics/blob/master/KL%20information%20and%20descriptive%20statistics.ipynb  \n",
        "と  \n",
        "https://genkuroki.github.io/documents/20160616KullbackLeibler.pdf  \n",
        "の丸パクリ (というか超絶劣化版) である。  \n",
        "あとマークダウンの練習のために無駄にいっぱい数式書いてます。  \n",
        "最終的には AIC について基本的なことをまとめて具体的な例で実験したい。  \n",
        "public にしたくなかったけど colab から push するためにしょうがなかった。  \n",
        "private なリポジトリだと共有するのめんどいし。  \n",
        "恥ずかしいので発表終わったら速やかに private にします。"
      ],
      "metadata": {
        "id": "GKJGaV8nUvHh"
      }
    },
    {
      "cell_type": "markdown",
      "source": [
        "# スターリングの公式\n",
        "$$\n",
        "\\begin{align}\n",
        "n! &= n^ne^{-n}\\sqrt{2\\pi n}(1 + o(1)) \\quad (n\\rightarrow∞)\\\\\n",
        "⇔\\ln n! &= n\\ln n - n + \\frac{1}{2}\\ln n + \\ln\\sqrt{2\\pi} + o(1) \\quad (n\\rightarrow∞)\n",
        "\\end{align}\n",
        "$$\n",
        "特に\n",
        "$$\n",
        "\\ln n! = n\\ln n - n + O(\\ln n)\n",
        "$$\n",
        "となる。  \n",
        "最後の評価は荒いが、今回はこれで十分。  \n",
        "また、\n",
        "$$\n",
        "\\begin{align}\n",
        "\\sum_{x = 1}^n\\ln x &= \\ln n!\\\\\n",
        "\\int_1^n\\ln x\\mathrm{d}x &= n\\ln n - n + 1\n",
        "\\end{align}\n",
        "$$\n",
        "より、最後の評価は対数関数の積分を和で近似した際の誤差のオーダーが $\\ln n$ であることを示している。\n",
        "# KL 情報量\n",
        "確率分布 $p$ の確率分布 $q$ に対する KL 情報量 $D(q||p)$ を\n",
        "$$\n",
        "D(q||p) = ∫q(x)\\ln{\\frac{q(x)}{p(x)}}\\mathrm{d}x\n",
        "$$\n",
        "で定義する。\n",
        "$$\n",
        "\\begin{align}\n",
        "D(q||p) &= \\left(-∫q(x)\\ln p(x)\\mathrm{d}x\\right) -\\left(-∫q(x)\\ln q(x)\\mathrm{d}x\\right)\\\\\n",
        "&= G(q||p) - S(q)\n",
        "\\end{align}\n",
        "$$\n",
        "と書ける。ここに、\n",
        "$$\n",
        "\\begin{align}\n",
        "G(q||p) &:= -∫q(x)\\ln p(x)\\mathrm{d}x\\\\\n",
        "S(q) &:= -∫q(x)\\ln q(x)\\mathrm{d}x \n",
        "\\end{align}\n",
        "$$\n",
        "である。$G(q||p)$ を $p$ の $q$ に対する交差エントロピー、もしくは汎化誤差と呼び、$S(q)$ をシャノンエントロピーと呼ぶ[<sup>1</sup>](#id_01)。  \n",
        "\n",
        "シャノンエントロピー $S(q)$ は \" $q$ に従って発生する記号列を符号化した際の平均符号長の下限\" 、交差エントロピー $G(q||p)$ は \" $q$ に従って発生する記号列を $p$ に従うと考えて記号化した時の平均符号長\" と解釈される。  \n",
        "よって KL 情報量 $D(q||p)$ は \"実際には $q$ に従って発生する記号列を $p$ に従うとして符号化した際の平均符号長のロス\" と解釈できる (ただし $p$, $q$ が離散的な場合に限る)。  \n",
        "また、$-\\ln p(x)$ が \" $p$ に従う確率変数 $X$ について、$X = x$ と知らされたときに受け取る情報量\" であったことを思い出そう。改めて\n",
        "$$\n",
        "D(q||p) = -∫q(x)[\\{-\\ln q(x)\\} - \\{-\\ln p(x)\\}]\\mathrm{d}x\n",
        "$$\n",
        "と書き、$p$ を事前分布、$q$ を事後分布と見なせば、$D(q||p)$ は \"事前分布 $p$ を 事後分布 $q$ に更新することで、$X$ の値を知って受け取る情報量が平均的にどれだけ減ったか\" を表すとも考えられる。  \n",
        "これらの解釈の他に、より\n",
        "# Sanov の定理による KL 情報量の意味付け\n",
        "### Sanov の定理\n",
        "$p$, $q$を確率分布とし、$X_1,X_2…$ が $p$ に従う独立同分布な確率変数列であるとする。このとき \"$X_1,…,X_n$ が $q$ に従うように見える確率\" は\n",
        "$$\n",
        "\\exp(-nD(q||p) + o(n))\n",
        "$$\n",
        "となる。つまり、KL 情報量 $D(q||p)$ は $p$ に従う乱数列が $q$ に従うように見える確率の対数が減衰する速さである。\n",
        "### 証明\n",
        "一般の場合の証明は大変 (というか僕も知らない) なので $p$, $q$ ともに有限台の離散確率分布とする。  \n",
        "すなわち、有限集合 $\\{1,…,r\\}$ 上の非負値関数で\n",
        "$$\n",
        "\\begin{align}\n",
        "\\sum_{i=1}^{r}p_i &= 1,\\\\\n",
        "\\sum_{i=1}^{r}q_i &= 1 \n",
        "\\end{align}\n",
        "$$\n",
        "を満たすものを考える。  \n",
        "また簡単のため、任意の $i$ について $p_i,q_i>0$ とする。  \n",
        "$(X_n)_{n=1}^∞$ を $p$ に従う独立同分布な確率変数列とする。  \n",
        "$n$ を正整数とする。$\\sum_{i = 1}^rk_i=n$ を満たす非負整数列 $(k_i)_{i=1}^r$ を与える。\n",
        "$$\n",
        "k_i=\\#\\{m≤n|X_m=i\\} \\quad (i = 1,…,r)\n",
        "$$ \n",
        "となる (すなわち値 $i$ がちょうど $k_i$ 回観測される) 確率は\n",
        "$$\n",
        "\\frac{n!}{k_1!…k_r!}p_1^{k_1}…p_r^{k_r}\n",
        "$$\n",
        "となる。  \n",
        "ここで、$k_i = nq_i(1 + O(\\frac{\\ln{n}}{n})) = nq_i + O(\\ln n)$ であると仮定する。  \n",
        "このとき特に $\\frac{k_i}{n}→q_i\\quad(n→∞)$ となる (つまり $(X_n)_{n=1}^∞$ がまるで $q$ に従うように見える)。  \n",
        "スターリングの公式より\n",
        "$$\n",
        "\\begin{align}\n",
        "  \\ln n! &= n\\ln n - n + O(\\ln n)\\\\\n",
        "  \\ln k_i! &= k_i\\ln k_i - k_i + O(\\ln k_i)\\\\\n",
        "  &=k_i\\ln k_i - k_i + O(\\ln n)\\\\\n",
        "  \\ln p_i^{k_i} &= k_i\\ln p_i\n",
        "\\end{align}\n",
        "$$\n",
        "また、仮定より\n",
        "$$\n",
        "\\begin{align}\n",
        "  \\ln \\frac{k_i}{n} &= \\ln q_i + \\ln \\left(1 + O\\left(\\frac{\\ln{n}}{n}\\right)\\right)\\\\\n",
        "  &= \\ln q_i + O\\left(\\frac{\\ln{n}}{n}\\right)\n",
        "\\end{align}\n",
        "$$\n",
        "ゆえに、仮定と合わせて\n",
        "$$\n",
        "\\begin{align}\n",
        "  \\ln\\frac{n!}{k_1!…k_r!}p_1^{k_1}…p_r^{k_r} &= n\\ln n - k_1\\ln k_1 - … - k_r\\ln k_r + k_1\\ln p_1 + … + k_r\\ln p_r + O(\\ln n)\\\\\n",
        "  &= - k_1\\left(\\ln\\frac{k_1}{n} - \\ln p_1\\right) - … - k_r\\left(\\ln\\frac{k_r}{n} - \\ln p_r\\right) + O(\\ln n)\\\\\n",
        "  &= - k_1\\left(\\ln q_1 - \\ln p_1\\right) - … - k_r\\left(\\ln q_r - \\ln p_r\\right) + O(\\ln n)\\\\\n",
        "  &= - nq_1\\ln\\frac{q_1}{p_1} - … - nq_r\\ln\\frac{q_r}{p_r} + O(\\ln n)\\\\\n",
        "  &=-nD(q||p) + o(n)\n",
        "\\end{align}\n",
        "$$\n",
        "従って、\"$X_1,…,X_n$ が $q$ に従うように見える確率\" は\n",
        "$$\n",
        "\\exp(-nD(q||p) + o(n))\n",
        "$$\n",
        "となる (証明終)。\n",
        "### 注意\n",
        "通常 $0\\ln 0=0$ と約束するので、$q_i=0$ となる $i$ があっても上の評価は問題なく成立する。  \n",
        "しかし $q_i>0$ かつ $p_i=0$ なる $i$ があると $D(q||p) = ∞$ となり、上の評価は破綻する。  \n",
        "これは、$i$ の目が絶対出ないサイコロを $i$ の目が出るサイコロでたまたまシミュレートすることはできても、$i$ の目が出るサイコロを $i$ の目が出ないサイコロでシミュレートすることはできないことに対応する...のだと思う。\n",
        "# KL 情報量の諸性質\n",
        "\n"
      ],
      "metadata": {
        "id": "9_hd8FYCG851"
      }
    },
    {
      "cell_type": "code",
      "source": [
        ""
      ],
      "metadata": {
        "id": "izlYuxtYPOVy"
      },
      "execution_count": null,
      "outputs": []
    },
    {
      "cell_type": "markdown",
      "source": [
        "<span id=\"id_01\">\n",
        "</span>"
      ],
      "metadata": {
        "id": "5u4PDD71PO5A"
      }
    }
  ]
}